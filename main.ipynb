{
 "metadata": {
  "language_info": {
   "codemirror_mode": {
    "name": "ipython",
    "version": 3
   },
   "file_extension": ".py",
   "mimetype": "text/x-python",
   "name": "python",
   "nbconvert_exporter": "python",
   "pygments_lexer": "ipython3",
   "version": "3.8.6-final"
  },
  "orig_nbformat": 2,
  "kernelspec": {
   "name": "python386jvsc74a57bd0af98d91515804603affb442df6d8b10101b59196e15bea09039451a32e8f093c",
   "display_name": "Python 3.8.6 64-bit"
  },
  "metadata": {
   "interpreter": {
    "hash": "1333e3c1ad2fc51f50662afb70178913c59aaa85164e7107425b3deb7606f87d"
   }
  }
 },
 "nbformat": 4,
 "nbformat_minor": 2,
 "cells": [
  {
   "cell_type": "code",
   "execution_count": 1,
   "metadata": {},
   "outputs": [],
   "source": [
    "import pandas as pd\n",
    "import tensorflow as tf\n",
    "import numpy as np\n",
    "pd.options.mode.chained_assignment = None \n",
    "from tqdm.notebook import tqdm\n",
    "from bs4 import BeautifulSoup\n",
    "from bs4.element import Comment\n",
    "import urllib.request\n",
    "from urllib.parse import urlparse\n",
    "import requests\n",
    "import re"
   ]
  },
  {
   "cell_type": "code",
   "execution_count": 2,
   "metadata": {},
   "outputs": [],
   "source": [
    "from transformers import pipeline"
   ]
  },
  {
   "cell_type": "code",
   "execution_count": 3,
   "metadata": {},
   "outputs": [],
   "source": [
    "news = pd.read_table('data/dev/news.tsv',\n",
    "              header=None,\n",
    "              names=[\n",
    "                  'id', 'category', 'subcategory', 'title', 'abstract', 'url',\n",
    "                  'title_entities', 'abstract_entities'\n",
    "              ])"
   ]
  },
  {
   "cell_type": "code",
   "execution_count": 4,
   "metadata": {},
   "outputs": [],
   "source": [
    "# news['category'].unique()\n",
    "# categories = ['world', 'regional', 'technology', 'business', 'environment', 'economics', 'finance', 'sports'\n",
    "#             'science', 'entertainment', 'health', 'future', 'politics', 'history', 'art', 'culture']"
   ]
  },
  {
   "cell_type": "code",
   "execution_count": 5,
   "metadata": {},
   "outputs": [],
   "source": [
    "# tech_news = news[news['subcategory'].isin([\n",
    "#     'finance-technology', 'autoscartech', 'technologyinvesting', 'newstechnology', 'newsscienceandtechnology',\n",
    "#     'shop-computers-electronics', 'autoshybrids', 'autosreview', 'autosluxury', 'autosclassics', 'autossuvs'\n",
    "#     ])]"
   ]
  },
  {
   "cell_type": "code",
   "execution_count": 6,
   "metadata": {},
   "outputs": [],
   "source": [
    "# news['category'].unique()"
   ]
  },
  {
   "cell_type": "code",
   "execution_count": 7,
   "metadata": {},
   "outputs": [],
   "source": [
    "subset_news = news[news['category']=='news']\n",
    "subset_news['text'] = \"\""
   ]
  },
  {
   "cell_type": "code",
   "execution_count": 23,
   "metadata": {},
   "outputs": [],
   "source": [
    "def tag_visible(element):\n",
    "    if element.parent.name in ['style', 'script', 'head', 'title', 'meta', '[document]']:\n",
    "        return False\n",
    "    if isinstance(element, Comment):\n",
    "        return False\n",
    "    return True\n",
    "\n",
    "def text_from_html(body):\n",
    "    soup = BeautifulSoup(body, 'html.parser')\n",
    "    texts = soup.findAll(text=True)\n",
    "    visible_texts = filter(tag_visible, texts)  \n",
    "    return u\" \".join(t.strip() for t in visible_texts)\n",
    "\n",
    "def process_url(url):\n",
    "    html = urllib.request.urlopen(url).read()\n",
    "    return text_from_html(html)"
   ]
  },
  {
   "cell_type": "code",
   "execution_count": 9,
   "metadata": {
    "tags": []
   },
   "outputs": [],
   "source": [
    "# for index, url in enumerate(tqdm(subset_news['url'])):\n",
    "#     if subset_news['text'].iloc[index] == '':\n",
    "#         if urlparse(url).scheme:\n",
    "#             subset_news['text'].iloc[index] = process_url(url)"
   ]
  },
  {
   "source": [
    "Run sentiment analysis on all articles\n",
    "\n",
    "Take 1 article, look at its sentiment, recommend a similar article (content wise [cetegory or nlp]) with the opposite sentiment"
   ],
   "cell_type": "markdown",
   "metadata": {}
  },
  {
   "cell_type": "code",
   "execution_count": 10,
   "metadata": {},
   "outputs": [],
   "source": [
    "# subset_news.to_csv(\"withText.csv\")"
   ]
  },
  {
   "cell_type": "code",
   "execution_count": 11,
   "metadata": {},
   "outputs": [],
   "source": [
    "subset_news = pd.read_csv('withPredictions.csv')"
   ]
  },
  {
   "cell_type": "code",
   "execution_count": 12,
   "metadata": {},
   "outputs": [],
   "source": [
    "# subset_news"
   ]
  },
  {
   "cell_type": "code",
   "execution_count": 13,
   "metadata": {},
   "outputs": [
    {
     "output_type": "stream",
     "name": "stderr",
     "text": [
      "All model checkpoint layers were used when initializing TFRobertaForSequenceClassification.\n",
      "\n",
      "All the layers of TFRobertaForSequenceClassification were initialized from the model checkpoint at roberta-large-mnli.\n",
      "If your task is similar to the task the model of the checkpoint was trained on, you can already use TFRobertaForSequenceClassification for predictions without further training.\n"
     ]
    }
   ],
   "source": [
    "classifier = pipeline(\"zero-shot-classification\")"
   ]
  },
  {
   "cell_type": "code",
   "execution_count": 14,
   "metadata": {},
   "outputs": [],
   "source": [
    "candidate_labels = ['positive', 'negative']"
   ]
  },
  {
   "cell_type": "code",
   "execution_count": 15,
   "metadata": {},
   "outputs": [],
   "source": [
    "# classifier(subset_news['text'].iloc[0], candidate_labels)"
   ]
  },
  {
   "cell_type": "code",
   "execution_count": 16,
   "metadata": {},
   "outputs": [],
   "source": [
    "for index, text in enumerate(tqdm(subset_news['text'])):\n",
    "    res = classifier(text, candidate_labels)\n",
    "    SCORES = res[\"scores\"]\n",
    "    CLASSES = res[\"labels\"]\n",
    "    BEST_INDEX = np.argmax(SCORES)\n",
    "    predicted_class = CLASSES[BEST_INDEX]\n",
    "    subset_news['sentiment'].iloc[index] = predicted_class"
   ]
  },
  {
   "cell_type": "code",
   "execution_count": 17,
   "metadata": {},
   "outputs": [],
   "source": [
    "# subset_news.to_csv('withPredictions.csv')    "
   ]
  },
  {
   "source": [
    "Part of EDA:\n",
    "For a given article, get it's category and sentiment.\n",
    "\n",
    "Get all articles from that category with opposite sentiment."
   ],
   "cell_type": "markdown",
   "metadata": {}
  },
  {
   "cell_type": "code",
   "execution_count": 18,
   "metadata": {},
   "outputs": [],
   "source": [
    "def recommendArticlesOfOppositeSentiment(articles, index):\n",
    "    category = articles['subcategory'].iloc[index]\n",
    "    sentiment = articles['sentiment'].iloc[index]\n",
    "    articles_opposite_sentiment = articles[articles['sentiment']!=sentiment]\n",
    "    return articles_opposite_sentiment[articles_opposite_sentiment['subcategory']==category]"
   ]
  },
  {
   "cell_type": "code",
   "execution_count": 19,
   "metadata": {},
   "outputs": [],
   "source": [
    "# recommendArticlesOfOppositeSentiment(subset_news, 20)"
   ]
  },
  {
   "cell_type": "code",
   "execution_count": 20,
   "metadata": {},
   "outputs": [],
   "source": [
    "def preprocess(raw_text):\n",
    "    # keep only words\n",
    "    letters_only_text = re.sub(\"[^a-zA-Z]\", \" \", raw_text)\n",
    "\n",
    "    # convert to lower case and split \n",
    "    words = letters_only_text.lower().split()\n",
    "\n",
    "    # remove stopwords\n",
    "    stopword_set = set(stopwords.words(\"english\"))\n",
    "    cleaned_words = list(set([w for w in words if w not in stopword_set]))\n",
    "\n",
    "    return cleaned_words"
   ]
  },
  {
   "cell_type": "code",
   "execution_count": 21,
   "metadata": {},
   "outputs": [
    {
     "output_type": "stream",
     "name": "stderr",
     "text": [
      "[nltk_data] Downloading package stopwords to\n[nltk_data]     /Users/vangelistrikoupis/nltk_data...\n[nltk_data]   Package stopwords is already up-to-date!\n"
     ]
    }
   ],
   "source": [
    "import nltk\n",
    "nltk.download('stopwords')\n",
    "from nltk.corpus import stopwords"
   ]
  },
  {
   "cell_type": "code",
   "execution_count": 22,
   "metadata": {},
   "outputs": [],
   "source": [
    "gloveFile = \"glove.6B.50d.txt\"\n",
    "def loadGloveModel(gloveFile):\n",
    "    with open(gloveFile, encoding=\"utf8\" ) as f:\n",
    "        content = f.readlines()\n",
    "    model = {}\n",
    "    for line in content:\n",
    "        splitLine = line.split()\n",
    "        word = splitLine[0]\n",
    "        embedding = np.array([float(val) for val in splitLine[1:]])\n",
    "        model[word] = embedding\n",
    "    return model"
   ]
  },
  {
   "cell_type": "code",
   "execution_count": 23,
   "metadata": {},
   "outputs": [
    {
     "output_type": "stream",
     "name": "stdout",
     "text": [
      "Loading Glove Model\n",
      "Done. 400000  words loaded!\n"
     ]
    }
   ],
   "source": [
    "model = loadGloveModel(gloveFile)"
   ]
  },
  {
   "cell_type": "code",
   "execution_count": 24,
   "metadata": {},
   "outputs": [],
   "source": [
    "def cosine_distance_wordembedding(s1, s2):\n",
    "    import scipy\n",
    "    vector_1 = np.mean([model.get(word,0) for word in preprocess(s1) if word in model],axis=0)\n",
    "    vector_2 = np.mean([model.get(word,0) for word in preprocess(s2) if word in model],axis=0)\n",
    "    cosine = scipy.spatial.distance.cosine(vector_1, vector_2)\n",
    "    return round((1-cosine)*100,2)"
   ]
  },
  {
   "cell_type": "code",
   "execution_count": 25,
   "metadata": {},
   "outputs": [],
   "source": [
    "# cosine_distance_wordembedding(subset_news['text'].iloc[0],subset_news['text'].iloc[10])"
   ]
  },
  {
   "cell_type": "code",
   "execution_count": 3,
   "metadata": {},
   "outputs": [],
   "source": [
    "subset_news = pd.read_csv(\"withRecArticle.csv\")"
   ]
  },
  {
   "cell_type": "code",
   "execution_count": 27,
   "metadata": {},
   "outputs": [],
   "source": [
    "subset_news[\"recommended_article\"] = 0"
   ]
  },
  {
   "cell_type": "code",
   "execution_count": 4,
   "metadata": {
    "tags": []
   },
   "outputs": [
    {
     "output_type": "display_data",
     "data": {
      "text/plain": "  0%|          | 0/13043 [00:00<?, ?it/s]",
      "application/vnd.jupyter.widget-view+json": {
       "version_major": 2,
       "version_minor": 0,
       "model_id": "d61e99bd0c4e47d697bacb527267a0b1"
      }
     },
     "metadata": {}
    },
    {
     "output_type": "error",
     "ename": "NameError",
     "evalue": "name 'cosine_distance_wordembedding_method' is not defined",
     "traceback": [
      "\u001b[0;31m---------------------------------------------------------------------------\u001b[0m",
      "\u001b[0;31mNameError\u001b[0m                                 Traceback (most recent call last)",
      "\u001b[0;32m<ipython-input-4-e427437253a4>\u001b[0m in \u001b[0;36m<module>\u001b[0;34m\u001b[0m\n\u001b[1;32m      3\u001b[0m     \u001b[0mdf_exc_index\u001b[0m \u001b[0;34m=\u001b[0m \u001b[0msubset_news\u001b[0m\u001b[0;34m[\u001b[0m\u001b[0;34m~\u001b[0m\u001b[0msubset_news\u001b[0m\u001b[0;34m[\u001b[0m\u001b[0;34m'text'\u001b[0m\u001b[0;34m]\u001b[0m\u001b[0;34m.\u001b[0m\u001b[0mindex\u001b[0m\u001b[0;34m.\u001b[0m\u001b[0misin\u001b[0m\u001b[0;34m(\u001b[0m\u001b[0;34m[\u001b[0m\u001b[0mindex\u001b[0m\u001b[0;34m]\u001b[0m\u001b[0;34m)\u001b[0m\u001b[0;34m]\u001b[0m\u001b[0;34m\u001b[0m\u001b[0;34m\u001b[0m\u001b[0m\n\u001b[1;32m      4\u001b[0m     \u001b[0;32mfor\u001b[0m \u001b[0mnew_index\u001b[0m\u001b[0;34m,\u001b[0m \u001b[0mnew_item\u001b[0m \u001b[0;32min\u001b[0m \u001b[0menumerate\u001b[0m\u001b[0;34m(\u001b[0m\u001b[0mdf_exc_index\u001b[0m\u001b[0;34m.\u001b[0m\u001b[0mtext\u001b[0m\u001b[0;34m)\u001b[0m\u001b[0;34m:\u001b[0m\u001b[0;34m\u001b[0m\u001b[0;34m\u001b[0m\u001b[0m\n\u001b[0;32m----> 5\u001b[0;31m         \u001b[0msimilarity\u001b[0m \u001b[0;34m=\u001b[0m \u001b[0mcosine_distance_wordembedding_method\u001b[0m\u001b[0;34m(\u001b[0m\u001b[0mitem\u001b[0m\u001b[0;34m,\u001b[0m \u001b[0mnew_item\u001b[0m\u001b[0;34m)\u001b[0m\u001b[0;34m\u001b[0m\u001b[0;34m\u001b[0m\u001b[0m\n\u001b[0m\u001b[1;32m      6\u001b[0m         \u001b[0;32mif\u001b[0m \u001b[0msimilarity\u001b[0m \u001b[0;34m>\u001b[0m \u001b[0;36m97\u001b[0m\u001b[0;34m:\u001b[0m\u001b[0;34m\u001b[0m\u001b[0;34m\u001b[0m\u001b[0m\n\u001b[1;32m      7\u001b[0m             \u001b[0;31m# print(\"article with index\", index, \"is \", similarity, \"% \\similar to article of index \", new_index)\u001b[0m\u001b[0;34m\u001b[0m\u001b[0;34m\u001b[0m\u001b[0;34m\u001b[0m\u001b[0m\n",
      "\u001b[0;31mNameError\u001b[0m: name 'cosine_distance_wordembedding_method' is not defined"
     ]
    }
   ],
   "source": [
    "for index, item in enumerate(tqdm(subset_news.text)):\n",
    "    # if index < 1:\n",
    "    df_exc_index = subset_news[~subset_news['text'].index.isin([index])]\n",
    "    for new_index, new_item in enumerate(df_exc_index.text):\n",
    "        similarity = cosine_distance_wordembedding(item, new_item)\n",
    "        if similarity > 97:\n",
    "            # print(\"article with index\", index, \"is \", similarity, \"% \\similar to article of index \", new_index)\n",
    "            subset_news['recommended_article'].iloc[index] = new_index\n",
    "            break"
   ]
  },
  {
   "cell_type": "code",
   "execution_count": 6,
   "metadata": {},
   "outputs": [],
   "source": [
    "subset_news[\"keep\"] = False"
   ]
  },
  {
   "cell_type": "code",
   "execution_count": 7,
   "metadata": {},
   "outputs": [],
   "source": [
    "for index, rec_article in enumerate(subset_news.recommended_article):\n",
    "    if  subset_news[\"sentiment\"].iloc[index] == subset_news['sentiment'].iloc[rec_article]:\n",
    "        subset_news[\"keep\"].iloc[index] = True\n",
    "    else:\n",
    "        subset_news[\"keep\"].iloc[index] = False"
   ]
  },
  {
   "cell_type": "code",
   "execution_count": 13,
   "metadata": {},
   "outputs": [],
   "source": [
    "final_df = subset_news[subset_news[\"keep\"]==True]"
   ]
  },
  {
   "cell_type": "code",
   "execution_count": 14,
   "metadata": {},
   "outputs": [
    {
     "output_type": "execute_result",
     "data": {
      "text/plain": [
       "       Unnamed: 0  Unnamed: 0.1  Unnamed: 0.1.1      id category  \\\n",
       "2               2             2               9  N59295     news   \n",
       "3               3             3              22   N9786     news   \n",
       "5               5             5              36  N43620     news   \n",
       "6               6             6              39  N61409     news   \n",
       "11             11            11              73  N21802     news   \n",
       "...           ...           ...             ...     ...      ...   \n",
       "13037       13037         13037           42399  N36658     news   \n",
       "13038       13038         13038           42400  N32558     news   \n",
       "13039       13039         13039           42401  N12470     news   \n",
       "13040       13040         13040           42402  N25642     news   \n",
       "13041       13041         13041           42403  N20845     news   \n",
       "\n",
       "                    subcategory  \\\n",
       "2                     newsworld   \n",
       "3                  newspolitics   \n",
       "5                     newsworld   \n",
       "6      newsscienceandtechnology   \n",
       "11                 newspolitics   \n",
       "...                         ...   \n",
       "13037                    newsus   \n",
       "13038         elections-2020-us   \n",
       "13039                 newscrime   \n",
       "13040              newspolitics   \n",
       "13041                    newsus   \n",
       "\n",
       "                                                   title  \\\n",
       "2      Chile: Three die in supermarket fire amid prot...   \n",
       "3      Elijah Cummings to lie in state at US Capitol ...   \n",
       "5      Without help from US, UN climate fund struggle...   \n",
       "6              Netflix hackers: Why they steal passwords   \n",
       "11      The Democratic candidates who want to face Trump   \n",
       "...                                                  ...   \n",
       "13037  Apartments for rent in Minneapolis: What will ...   \n",
       "13038  Trump campaign launching black outreach effort...   \n",
       "13039              3 teens shot in Northeast DC Thursday   \n",
       "13040  Texas custody battle fuels debate over transge...   \n",
       "13041  Police say 23-year-old man allegedly fled stat...   \n",
       "\n",
       "                                                abstract  \\\n",
       "2      Three people have died in a supermarket fire a...   \n",
       "3      Cummings, a Democrat whose district included s...   \n",
       "5      Rich countries gathered Thursday in France to ...   \n",
       "6      Netflix accounts don't really offer the sellin...   \n",
       "11     With Bill de Blasio's Sept. 19 decision to dro...   \n",
       "...                                                  ...   \n",
       "13037  Curious just how far your dollar goes in Minne...   \n",
       "13038  WASHINGTON (AP)   During the 2016 campaign, ca...   \n",
       "13039  Thursday was a violent night in the District, ...   \n",
       "13040  A custody battle between two parents has led t...   \n",
       "13041  HALL COUNTY, Ga. (CBS46) -- Fourteen-year-old ...   \n",
       "\n",
       "                                                 url  \\\n",
       "2      https://assets.msn.com/labs/mind/AAJ43pw.html   \n",
       "3      https://assets.msn.com/labs/mind/AAJgNxm.html   \n",
       "5      https://assets.msn.com/labs/mind/AAJgO34.html   \n",
       "6      https://assets.msn.com/labs/mind/AAGBXF6.html   \n",
       "11     https://assets.msn.com/labs/mind/AAEmD6T.html   \n",
       "...                                              ...   \n",
       "13037  https://assets.msn.com/labs/mind/BBWscWw.html   \n",
       "13038  https://assets.msn.com/labs/mind/BBWsd7A.html   \n",
       "13039  https://assets.msn.com/labs/mind/BBWse0x.html   \n",
       "13040  https://assets.msn.com/labs/mind/BBWseUG.html   \n",
       "13041  https://assets.msn.com/labs/mind/BBWsf0T.html   \n",
       "\n",
       "                                          title_entities  \\\n",
       "2      [{\"Label\": \"Chile\", \"Type\": \"G\", \"WikidataId\":...   \n",
       "3      [{\"Label\": \"Elijah Cummings\", \"Type\": \"P\", \"Wi...   \n",
       "5      [{\"Label\": \"United Nations\", \"Type\": \"O\", \"Wik...   \n",
       "6      [{\"Label\": \"Netflix\", \"Type\": \"O\", \"WikidataId...   \n",
       "11     [{\"Label\": \"2020 Democratic Party presidential...   \n",
       "...                                                  ...   \n",
       "13037  [{\"Label\": \"Minneapolis\", \"Type\": \"G\", \"Wikida...   \n",
       "13038  [{\"Label\": \"Donald Trump\", \"Type\": \"P\", \"Wikid...   \n",
       "13039  [{\"Label\": \"Northeast (Washington, D.C.)\", \"Ty...   \n",
       "13040  [{\"Label\": \"Texas\", \"Type\": \"G\", \"WikidataId\":...   \n",
       "13041                                                 []   \n",
       "\n",
       "                                       abstract_entities  \\\n",
       "2      [{\"Label\": \"Santiago\", \"Type\": \"G\", \"WikidataI...   \n",
       "3      [{\"Label\": \"Elijah Cummings\", \"Type\": \"P\", \"Wi...   \n",
       "5      [{\"Label\": \"France\", \"Type\": \"G\", \"WikidataId\"...   \n",
       "6      [{\"Label\": \"Netflix\", \"Type\": \"O\", \"WikidataId...   \n",
       "11     [{\"Label\": \"2020 Democratic Party presidential...   \n",
       "...                                                  ...   \n",
       "13037  [{\"Label\": \"Minneapolis\", \"Type\": \"G\", \"Wikida...   \n",
       "13038  [{\"Label\": \"Donald Trump\", \"Type\": \"P\", \"Wikid...   \n",
       "13039  [{\"Label\": \"Metropolitan Police Department of ...   \n",
       "13040  [{\"Label\": \"Ted Cruz\", \"Type\": \"P\", \"WikidataI...   \n",
       "13041  [{\"Label\": \"Hall County, Georgia\", \"Type\": \"G\"...   \n",
       "\n",
       "                                                    text sentiment  \\\n",
       "2             Chile: Three die in supermarket fire am...  negative   \n",
       "3             Elijah Cummings to lie in state at US C...  positive   \n",
       "5             Without help from US, UN climate fund s...  negative   \n",
       "6             Netflix hackers: Why they steal passwor...  negative   \n",
       "11            The Democratic candidates who want to f...  negative   \n",
       "...                                                  ...       ...   \n",
       "13037        Apartments for rent in Minneapolis: What...  positive   \n",
       "13038        Trump campaign launching black outreach ...  negative   \n",
       "13039        3 teens shot in Northeast DC Thursday   ...  negative   \n",
       "13040                            img class=\"image spi...  negative   \n",
       "13041        Police say 23-year-old man allegedly fle...  negative   \n",
       "\n",
       "       recommended_article  keep  \n",
       "2                     2011  True  \n",
       "3                        9  True  \n",
       "5                      232  True  \n",
       "6                       95  True  \n",
       "11                       0  True  \n",
       "...                    ...   ...  \n",
       "13037                   62  True  \n",
       "13038                    4  True  \n",
       "13039                   16  True  \n",
       "13040                  878  True  \n",
       "13041                  307  True  \n",
       "\n",
       "[10479 rows x 15 columns]"
      ],
      "text/html": "<div>\n<style scoped>\n    .dataframe tbody tr th:only-of-type {\n        vertical-align: middle;\n    }\n\n    .dataframe tbody tr th {\n        vertical-align: top;\n    }\n\n    .dataframe thead th {\n        text-align: right;\n    }\n</style>\n<table border=\"1\" class=\"dataframe\">\n  <thead>\n    <tr style=\"text-align: right;\">\n      <th></th>\n      <th>Unnamed: 0</th>\n      <th>Unnamed: 0.1</th>\n      <th>Unnamed: 0.1.1</th>\n      <th>id</th>\n      <th>category</th>\n      <th>subcategory</th>\n      <th>title</th>\n      <th>abstract</th>\n      <th>url</th>\n      <th>title_entities</th>\n      <th>abstract_entities</th>\n      <th>text</th>\n      <th>sentiment</th>\n      <th>recommended_article</th>\n      <th>keep</th>\n    </tr>\n  </thead>\n  <tbody>\n    <tr>\n      <th>2</th>\n      <td>2</td>\n      <td>2</td>\n      <td>9</td>\n      <td>N59295</td>\n      <td>news</td>\n      <td>newsworld</td>\n      <td>Chile: Three die in supermarket fire amid prot...</td>\n      <td>Three people have died in a supermarket fire a...</td>\n      <td>https://assets.msn.com/labs/mind/AAJ43pw.html</td>\n      <td>[{\"Label\": \"Chile\", \"Type\": \"G\", \"WikidataId\":...</td>\n      <td>[{\"Label\": \"Santiago\", \"Type\": \"G\", \"WikidataI...</td>\n      <td>Chile: Three die in supermarket fire am...</td>\n      <td>negative</td>\n      <td>2011</td>\n      <td>True</td>\n    </tr>\n    <tr>\n      <th>3</th>\n      <td>3</td>\n      <td>3</td>\n      <td>22</td>\n      <td>N9786</td>\n      <td>news</td>\n      <td>newspolitics</td>\n      <td>Elijah Cummings to lie in state at US Capitol ...</td>\n      <td>Cummings, a Democrat whose district included s...</td>\n      <td>https://assets.msn.com/labs/mind/AAJgNxm.html</td>\n      <td>[{\"Label\": \"Elijah Cummings\", \"Type\": \"P\", \"Wi...</td>\n      <td>[{\"Label\": \"Elijah Cummings\", \"Type\": \"P\", \"Wi...</td>\n      <td>Elijah Cummings to lie in state at US C...</td>\n      <td>positive</td>\n      <td>9</td>\n      <td>True</td>\n    </tr>\n    <tr>\n      <th>5</th>\n      <td>5</td>\n      <td>5</td>\n      <td>36</td>\n      <td>N43620</td>\n      <td>news</td>\n      <td>newsworld</td>\n      <td>Without help from US, UN climate fund struggle...</td>\n      <td>Rich countries gathered Thursday in France to ...</td>\n      <td>https://assets.msn.com/labs/mind/AAJgO34.html</td>\n      <td>[{\"Label\": \"United Nations\", \"Type\": \"O\", \"Wik...</td>\n      <td>[{\"Label\": \"France\", \"Type\": \"G\", \"WikidataId\"...</td>\n      <td>Without help from US, UN climate fund s...</td>\n      <td>negative</td>\n      <td>232</td>\n      <td>True</td>\n    </tr>\n    <tr>\n      <th>6</th>\n      <td>6</td>\n      <td>6</td>\n      <td>39</td>\n      <td>N61409</td>\n      <td>news</td>\n      <td>newsscienceandtechnology</td>\n      <td>Netflix hackers: Why they steal passwords</td>\n      <td>Netflix accounts don't really offer the sellin...</td>\n      <td>https://assets.msn.com/labs/mind/AAGBXF6.html</td>\n      <td>[{\"Label\": \"Netflix\", \"Type\": \"O\", \"WikidataId...</td>\n      <td>[{\"Label\": \"Netflix\", \"Type\": \"O\", \"WikidataId...</td>\n      <td>Netflix hackers: Why they steal passwor...</td>\n      <td>negative</td>\n      <td>95</td>\n      <td>True</td>\n    </tr>\n    <tr>\n      <th>11</th>\n      <td>11</td>\n      <td>11</td>\n      <td>73</td>\n      <td>N21802</td>\n      <td>news</td>\n      <td>newspolitics</td>\n      <td>The Democratic candidates who want to face Trump</td>\n      <td>With Bill de Blasio's Sept. 19 decision to dro...</td>\n      <td>https://assets.msn.com/labs/mind/AAEmD6T.html</td>\n      <td>[{\"Label\": \"2020 Democratic Party presidential...</td>\n      <td>[{\"Label\": \"2020 Democratic Party presidential...</td>\n      <td>The Democratic candidates who want to f...</td>\n      <td>negative</td>\n      <td>0</td>\n      <td>True</td>\n    </tr>\n    <tr>\n      <th>...</th>\n      <td>...</td>\n      <td>...</td>\n      <td>...</td>\n      <td>...</td>\n      <td>...</td>\n      <td>...</td>\n      <td>...</td>\n      <td>...</td>\n      <td>...</td>\n      <td>...</td>\n      <td>...</td>\n      <td>...</td>\n      <td>...</td>\n      <td>...</td>\n      <td>...</td>\n    </tr>\n    <tr>\n      <th>13037</th>\n      <td>13037</td>\n      <td>13037</td>\n      <td>42399</td>\n      <td>N36658</td>\n      <td>news</td>\n      <td>newsus</td>\n      <td>Apartments for rent in Minneapolis: What will ...</td>\n      <td>Curious just how far your dollar goes in Minne...</td>\n      <td>https://assets.msn.com/labs/mind/BBWscWw.html</td>\n      <td>[{\"Label\": \"Minneapolis\", \"Type\": \"G\", \"Wikida...</td>\n      <td>[{\"Label\": \"Minneapolis\", \"Type\": \"G\", \"Wikida...</td>\n      <td>Apartments for rent in Minneapolis: What...</td>\n      <td>positive</td>\n      <td>62</td>\n      <td>True</td>\n    </tr>\n    <tr>\n      <th>13038</th>\n      <td>13038</td>\n      <td>13038</td>\n      <td>42400</td>\n      <td>N32558</td>\n      <td>news</td>\n      <td>elections-2020-us</td>\n      <td>Trump campaign launching black outreach effort...</td>\n      <td>WASHINGTON (AP)   During the 2016 campaign, ca...</td>\n      <td>https://assets.msn.com/labs/mind/BBWsd7A.html</td>\n      <td>[{\"Label\": \"Donald Trump\", \"Type\": \"P\", \"Wikid...</td>\n      <td>[{\"Label\": \"Donald Trump\", \"Type\": \"P\", \"Wikid...</td>\n      <td>Trump campaign launching black outreach ...</td>\n      <td>negative</td>\n      <td>4</td>\n      <td>True</td>\n    </tr>\n    <tr>\n      <th>13039</th>\n      <td>13039</td>\n      <td>13039</td>\n      <td>42401</td>\n      <td>N12470</td>\n      <td>news</td>\n      <td>newscrime</td>\n      <td>3 teens shot in Northeast DC Thursday</td>\n      <td>Thursday was a violent night in the District, ...</td>\n      <td>https://assets.msn.com/labs/mind/BBWse0x.html</td>\n      <td>[{\"Label\": \"Northeast (Washington, D.C.)\", \"Ty...</td>\n      <td>[{\"Label\": \"Metropolitan Police Department of ...</td>\n      <td>3 teens shot in Northeast DC Thursday   ...</td>\n      <td>negative</td>\n      <td>16</td>\n      <td>True</td>\n    </tr>\n    <tr>\n      <th>13040</th>\n      <td>13040</td>\n      <td>13040</td>\n      <td>42402</td>\n      <td>N25642</td>\n      <td>news</td>\n      <td>newspolitics</td>\n      <td>Texas custody battle fuels debate over transge...</td>\n      <td>A custody battle between two parents has led t...</td>\n      <td>https://assets.msn.com/labs/mind/BBWseUG.html</td>\n      <td>[{\"Label\": \"Texas\", \"Type\": \"G\", \"WikidataId\":...</td>\n      <td>[{\"Label\": \"Ted Cruz\", \"Type\": \"P\", \"WikidataI...</td>\n      <td>img class=\"image spi...</td>\n      <td>negative</td>\n      <td>878</td>\n      <td>True</td>\n    </tr>\n    <tr>\n      <th>13041</th>\n      <td>13041</td>\n      <td>13041</td>\n      <td>42403</td>\n      <td>N20845</td>\n      <td>news</td>\n      <td>newsus</td>\n      <td>Police say 23-year-old man allegedly fled stat...</td>\n      <td>HALL COUNTY, Ga. (CBS46) -- Fourteen-year-old ...</td>\n      <td>https://assets.msn.com/labs/mind/BBWsf0T.html</td>\n      <td>[]</td>\n      <td>[{\"Label\": \"Hall County, Georgia\", \"Type\": \"G\"...</td>\n      <td>Police say 23-year-old man allegedly fle...</td>\n      <td>negative</td>\n      <td>307</td>\n      <td>True</td>\n    </tr>\n  </tbody>\n</table>\n<p>10479 rows × 15 columns</p>\n</div>"
     },
     "metadata": {},
     "execution_count": 14
    }
   ],
   "source": [
    "final_df"
   ]
  },
  {
   "cell_type": "code",
   "execution_count": 15,
   "metadata": {},
   "outputs": [],
   "source": [
    "final_df = final_df.rename(columns={'Unnamed: 0': 'article_id'})"
   ]
  },
  {
   "cell_type": "code",
   "execution_count": 20,
   "metadata": {},
   "outputs": [],
   "source": [
    "final_df = final_df.drop(columns=['Unnamed: 0.1', 'Unnamed: 0.1.1'])"
   ]
  },
  {
   "cell_type": "code",
   "execution_count": 22,
   "metadata": {},
   "outputs": [
    {
     "output_type": "execute_result",
     "data": {
      "text/plain": [
       "       article_id      id category               subcategory  \\\n",
       "2               2  N59295     news                 newsworld   \n",
       "3               3   N9786     news              newspolitics   \n",
       "5               5  N43620     news                 newsworld   \n",
       "6               6  N61409     news  newsscienceandtechnology   \n",
       "11             11  N21802     news              newspolitics   \n",
       "...           ...     ...      ...                       ...   \n",
       "13037       13037  N36658     news                    newsus   \n",
       "13038       13038  N32558     news         elections-2020-us   \n",
       "13039       13039  N12470     news                 newscrime   \n",
       "13040       13040  N25642     news              newspolitics   \n",
       "13041       13041  N20845     news                    newsus   \n",
       "\n",
       "                                                   title  \\\n",
       "2      Chile: Three die in supermarket fire amid prot...   \n",
       "3      Elijah Cummings to lie in state at US Capitol ...   \n",
       "5      Without help from US, UN climate fund struggle...   \n",
       "6              Netflix hackers: Why they steal passwords   \n",
       "11      The Democratic candidates who want to face Trump   \n",
       "...                                                  ...   \n",
       "13037  Apartments for rent in Minneapolis: What will ...   \n",
       "13038  Trump campaign launching black outreach effort...   \n",
       "13039              3 teens shot in Northeast DC Thursday   \n",
       "13040  Texas custody battle fuels debate over transge...   \n",
       "13041  Police say 23-year-old man allegedly fled stat...   \n",
       "\n",
       "                                                abstract  \\\n",
       "2      Three people have died in a supermarket fire a...   \n",
       "3      Cummings, a Democrat whose district included s...   \n",
       "5      Rich countries gathered Thursday in France to ...   \n",
       "6      Netflix accounts don't really offer the sellin...   \n",
       "11     With Bill de Blasio's Sept. 19 decision to dro...   \n",
       "...                                                  ...   \n",
       "13037  Curious just how far your dollar goes in Minne...   \n",
       "13038  WASHINGTON (AP)   During the 2016 campaign, ca...   \n",
       "13039  Thursday was a violent night in the District, ...   \n",
       "13040  A custody battle between two parents has led t...   \n",
       "13041  HALL COUNTY, Ga. (CBS46) -- Fourteen-year-old ...   \n",
       "\n",
       "                                                 url  \\\n",
       "2      https://assets.msn.com/labs/mind/AAJ43pw.html   \n",
       "3      https://assets.msn.com/labs/mind/AAJgNxm.html   \n",
       "5      https://assets.msn.com/labs/mind/AAJgO34.html   \n",
       "6      https://assets.msn.com/labs/mind/AAGBXF6.html   \n",
       "11     https://assets.msn.com/labs/mind/AAEmD6T.html   \n",
       "...                                              ...   \n",
       "13037  https://assets.msn.com/labs/mind/BBWscWw.html   \n",
       "13038  https://assets.msn.com/labs/mind/BBWsd7A.html   \n",
       "13039  https://assets.msn.com/labs/mind/BBWse0x.html   \n",
       "13040  https://assets.msn.com/labs/mind/BBWseUG.html   \n",
       "13041  https://assets.msn.com/labs/mind/BBWsf0T.html   \n",
       "\n",
       "                                          title_entities  \\\n",
       "2      [{\"Label\": \"Chile\", \"Type\": \"G\", \"WikidataId\":...   \n",
       "3      [{\"Label\": \"Elijah Cummings\", \"Type\": \"P\", \"Wi...   \n",
       "5      [{\"Label\": \"United Nations\", \"Type\": \"O\", \"Wik...   \n",
       "6      [{\"Label\": \"Netflix\", \"Type\": \"O\", \"WikidataId...   \n",
       "11     [{\"Label\": \"2020 Democratic Party presidential...   \n",
       "...                                                  ...   \n",
       "13037  [{\"Label\": \"Minneapolis\", \"Type\": \"G\", \"Wikida...   \n",
       "13038  [{\"Label\": \"Donald Trump\", \"Type\": \"P\", \"Wikid...   \n",
       "13039  [{\"Label\": \"Northeast (Washington, D.C.)\", \"Ty...   \n",
       "13040  [{\"Label\": \"Texas\", \"Type\": \"G\", \"WikidataId\":...   \n",
       "13041                                                 []   \n",
       "\n",
       "                                       abstract_entities  \\\n",
       "2      [{\"Label\": \"Santiago\", \"Type\": \"G\", \"WikidataI...   \n",
       "3      [{\"Label\": \"Elijah Cummings\", \"Type\": \"P\", \"Wi...   \n",
       "5      [{\"Label\": \"France\", \"Type\": \"G\", \"WikidataId\"...   \n",
       "6      [{\"Label\": \"Netflix\", \"Type\": \"O\", \"WikidataId...   \n",
       "11     [{\"Label\": \"2020 Democratic Party presidential...   \n",
       "...                                                  ...   \n",
       "13037  [{\"Label\": \"Minneapolis\", \"Type\": \"G\", \"Wikida...   \n",
       "13038  [{\"Label\": \"Donald Trump\", \"Type\": \"P\", \"Wikid...   \n",
       "13039  [{\"Label\": \"Metropolitan Police Department of ...   \n",
       "13040  [{\"Label\": \"Ted Cruz\", \"Type\": \"P\", \"WikidataI...   \n",
       "13041  [{\"Label\": \"Hall County, Georgia\", \"Type\": \"G\"...   \n",
       "\n",
       "                                                    text sentiment  \\\n",
       "2             Chile: Three die in supermarket fire am...  negative   \n",
       "3             Elijah Cummings to lie in state at US C...  positive   \n",
       "5             Without help from US, UN climate fund s...  negative   \n",
       "6             Netflix hackers: Why they steal passwor...  negative   \n",
       "11            The Democratic candidates who want to f...  negative   \n",
       "...                                                  ...       ...   \n",
       "13037        Apartments for rent in Minneapolis: What...  positive   \n",
       "13038        Trump campaign launching black outreach ...  negative   \n",
       "13039        3 teens shot in Northeast DC Thursday   ...  negative   \n",
       "13040                            img class=\"image spi...  negative   \n",
       "13041        Police say 23-year-old man allegedly fle...  negative   \n",
       "\n",
       "       recommended_article  keep  \n",
       "2                     2011  True  \n",
       "3                        9  True  \n",
       "5                      232  True  \n",
       "6                       95  True  \n",
       "11                       0  True  \n",
       "...                    ...   ...  \n",
       "13037                   62  True  \n",
       "13038                    4  True  \n",
       "13039                   16  True  \n",
       "13040                  878  True  \n",
       "13041                  307  True  \n",
       "\n",
       "[10479 rows x 13 columns]"
      ],
      "text/html": "<div>\n<style scoped>\n    .dataframe tbody tr th:only-of-type {\n        vertical-align: middle;\n    }\n\n    .dataframe tbody tr th {\n        vertical-align: top;\n    }\n\n    .dataframe thead th {\n        text-align: right;\n    }\n</style>\n<table border=\"1\" class=\"dataframe\">\n  <thead>\n    <tr style=\"text-align: right;\">\n      <th></th>\n      <th>article_id</th>\n      <th>id</th>\n      <th>category</th>\n      <th>subcategory</th>\n      <th>title</th>\n      <th>abstract</th>\n      <th>url</th>\n      <th>title_entities</th>\n      <th>abstract_entities</th>\n      <th>text</th>\n      <th>sentiment</th>\n      <th>recommended_article</th>\n      <th>keep</th>\n    </tr>\n  </thead>\n  <tbody>\n    <tr>\n      <th>2</th>\n      <td>2</td>\n      <td>N59295</td>\n      <td>news</td>\n      <td>newsworld</td>\n      <td>Chile: Three die in supermarket fire amid prot...</td>\n      <td>Three people have died in a supermarket fire a...</td>\n      <td>https://assets.msn.com/labs/mind/AAJ43pw.html</td>\n      <td>[{\"Label\": \"Chile\", \"Type\": \"G\", \"WikidataId\":...</td>\n      <td>[{\"Label\": \"Santiago\", \"Type\": \"G\", \"WikidataI...</td>\n      <td>Chile: Three die in supermarket fire am...</td>\n      <td>negative</td>\n      <td>2011</td>\n      <td>True</td>\n    </tr>\n    <tr>\n      <th>3</th>\n      <td>3</td>\n      <td>N9786</td>\n      <td>news</td>\n      <td>newspolitics</td>\n      <td>Elijah Cummings to lie in state at US Capitol ...</td>\n      <td>Cummings, a Democrat whose district included s...</td>\n      <td>https://assets.msn.com/labs/mind/AAJgNxm.html</td>\n      <td>[{\"Label\": \"Elijah Cummings\", \"Type\": \"P\", \"Wi...</td>\n      <td>[{\"Label\": \"Elijah Cummings\", \"Type\": \"P\", \"Wi...</td>\n      <td>Elijah Cummings to lie in state at US C...</td>\n      <td>positive</td>\n      <td>9</td>\n      <td>True</td>\n    </tr>\n    <tr>\n      <th>5</th>\n      <td>5</td>\n      <td>N43620</td>\n      <td>news</td>\n      <td>newsworld</td>\n      <td>Without help from US, UN climate fund struggle...</td>\n      <td>Rich countries gathered Thursday in France to ...</td>\n      <td>https://assets.msn.com/labs/mind/AAJgO34.html</td>\n      <td>[{\"Label\": \"United Nations\", \"Type\": \"O\", \"Wik...</td>\n      <td>[{\"Label\": \"France\", \"Type\": \"G\", \"WikidataId\"...</td>\n      <td>Without help from US, UN climate fund s...</td>\n      <td>negative</td>\n      <td>232</td>\n      <td>True</td>\n    </tr>\n    <tr>\n      <th>6</th>\n      <td>6</td>\n      <td>N61409</td>\n      <td>news</td>\n      <td>newsscienceandtechnology</td>\n      <td>Netflix hackers: Why they steal passwords</td>\n      <td>Netflix accounts don't really offer the sellin...</td>\n      <td>https://assets.msn.com/labs/mind/AAGBXF6.html</td>\n      <td>[{\"Label\": \"Netflix\", \"Type\": \"O\", \"WikidataId...</td>\n      <td>[{\"Label\": \"Netflix\", \"Type\": \"O\", \"WikidataId...</td>\n      <td>Netflix hackers: Why they steal passwor...</td>\n      <td>negative</td>\n      <td>95</td>\n      <td>True</td>\n    </tr>\n    <tr>\n      <th>11</th>\n      <td>11</td>\n      <td>N21802</td>\n      <td>news</td>\n      <td>newspolitics</td>\n      <td>The Democratic candidates who want to face Trump</td>\n      <td>With Bill de Blasio's Sept. 19 decision to dro...</td>\n      <td>https://assets.msn.com/labs/mind/AAEmD6T.html</td>\n      <td>[{\"Label\": \"2020 Democratic Party presidential...</td>\n      <td>[{\"Label\": \"2020 Democratic Party presidential...</td>\n      <td>The Democratic candidates who want to f...</td>\n      <td>negative</td>\n      <td>0</td>\n      <td>True</td>\n    </tr>\n    <tr>\n      <th>...</th>\n      <td>...</td>\n      <td>...</td>\n      <td>...</td>\n      <td>...</td>\n      <td>...</td>\n      <td>...</td>\n      <td>...</td>\n      <td>...</td>\n      <td>...</td>\n      <td>...</td>\n      <td>...</td>\n      <td>...</td>\n      <td>...</td>\n    </tr>\n    <tr>\n      <th>13037</th>\n      <td>13037</td>\n      <td>N36658</td>\n      <td>news</td>\n      <td>newsus</td>\n      <td>Apartments for rent in Minneapolis: What will ...</td>\n      <td>Curious just how far your dollar goes in Minne...</td>\n      <td>https://assets.msn.com/labs/mind/BBWscWw.html</td>\n      <td>[{\"Label\": \"Minneapolis\", \"Type\": \"G\", \"Wikida...</td>\n      <td>[{\"Label\": \"Minneapolis\", \"Type\": \"G\", \"Wikida...</td>\n      <td>Apartments for rent in Minneapolis: What...</td>\n      <td>positive</td>\n      <td>62</td>\n      <td>True</td>\n    </tr>\n    <tr>\n      <th>13038</th>\n      <td>13038</td>\n      <td>N32558</td>\n      <td>news</td>\n      <td>elections-2020-us</td>\n      <td>Trump campaign launching black outreach effort...</td>\n      <td>WASHINGTON (AP)   During the 2016 campaign, ca...</td>\n      <td>https://assets.msn.com/labs/mind/BBWsd7A.html</td>\n      <td>[{\"Label\": \"Donald Trump\", \"Type\": \"P\", \"Wikid...</td>\n      <td>[{\"Label\": \"Donald Trump\", \"Type\": \"P\", \"Wikid...</td>\n      <td>Trump campaign launching black outreach ...</td>\n      <td>negative</td>\n      <td>4</td>\n      <td>True</td>\n    </tr>\n    <tr>\n      <th>13039</th>\n      <td>13039</td>\n      <td>N12470</td>\n      <td>news</td>\n      <td>newscrime</td>\n      <td>3 teens shot in Northeast DC Thursday</td>\n      <td>Thursday was a violent night in the District, ...</td>\n      <td>https://assets.msn.com/labs/mind/BBWse0x.html</td>\n      <td>[{\"Label\": \"Northeast (Washington, D.C.)\", \"Ty...</td>\n      <td>[{\"Label\": \"Metropolitan Police Department of ...</td>\n      <td>3 teens shot in Northeast DC Thursday   ...</td>\n      <td>negative</td>\n      <td>16</td>\n      <td>True</td>\n    </tr>\n    <tr>\n      <th>13040</th>\n      <td>13040</td>\n      <td>N25642</td>\n      <td>news</td>\n      <td>newspolitics</td>\n      <td>Texas custody battle fuels debate over transge...</td>\n      <td>A custody battle between two parents has led t...</td>\n      <td>https://assets.msn.com/labs/mind/BBWseUG.html</td>\n      <td>[{\"Label\": \"Texas\", \"Type\": \"G\", \"WikidataId\":...</td>\n      <td>[{\"Label\": \"Ted Cruz\", \"Type\": \"P\", \"WikidataI...</td>\n      <td>img class=\"image spi...</td>\n      <td>negative</td>\n      <td>878</td>\n      <td>True</td>\n    </tr>\n    <tr>\n      <th>13041</th>\n      <td>13041</td>\n      <td>N20845</td>\n      <td>news</td>\n      <td>newsus</td>\n      <td>Police say 23-year-old man allegedly fled stat...</td>\n      <td>HALL COUNTY, Ga. (CBS46) -- Fourteen-year-old ...</td>\n      <td>https://assets.msn.com/labs/mind/BBWsf0T.html</td>\n      <td>[]</td>\n      <td>[{\"Label\": \"Hall County, Georgia\", \"Type\": \"G\"...</td>\n      <td>Police say 23-year-old man allegedly fle...</td>\n      <td>negative</td>\n      <td>307</td>\n      <td>True</td>\n    </tr>\n  </tbody>\n</table>\n<p>10479 rows × 13 columns</p>\n</div>"
     },
     "metadata": {},
     "execution_count": 22
    }
   ],
   "source": [
    "final_df"
   ]
  },
  {
   "cell_type": "code",
   "execution_count": null,
   "metadata": {},
   "outputs": [],
   "source": []
  }
 ]
}